{
 "cells": [
  {
   "cell_type": "markdown",
   "id": "d73aaada-0696-4bc4-9fbe-47cdf82ba64a",
   "metadata": {},
   "source": [
    "Getting started.\n",
    "\n",
    "Installation\n",
    "```\n",
    "# not using anaconda\n",
    "# anaconda python already has JN installed\n",
    "pip install notebook\n",
    "```\n",
    "\n",
    "Startup\n",
    "```\n",
    "# go to directory where your files are/working directory you want to have files in\n",
    "# starts notebook server local\n",
    "jupyter notebook\n",
    "\n",
    "# start server on some LAN address\n",
    "jupyter notebook --ip=000.000.000.000 # check ipconfig/ifconfig\n",
    "```\n",
    "\n",
    "FYI: pycharm, vscode have some kind of ipynb implementation \n",
    "\n",
    "jupyter lab is a thing.\n",
    "\n"
   ]
  },
  {
   "cell_type": "markdown",
   "id": "708ff54b-7127-4a5c-9df1-02c82f24aa4f",
   "metadata": {},
   "source": [
    "## Get Help at\n",
    "\n",
    "> crtl + shift + h"
   ]
  },
  {
   "cell_type": "markdown",
   "id": "daf9376e-17ec-494d-9e0b-295c745fe697",
   "metadata": {},
   "source": [
    "crtl + enter - run cell\n",
    "\n",
    "shift + enter - run and create new cell\n",
    "\n",
    "crts + s - save file\n",
    "\n",
    "order of exec is written next to code cell\n",
    "\n",
    "running a code cell instead of a file lets you change small things all over without re running full file. think ML training\n"
   ]
  },
  {
   "cell_type": "markdown",
   "id": "81a98452-dc06-438f-a0a5-d0cfeb59b752",
   "metadata": {},
   "source": [
    "lets your display stuff without prints\n",
    "\n",
    "```python\n",
    "import pandas_datareader as web\n",
    "df=web.datareader(....)\n",
    "\n",
    "```"
   ]
  },
  {
   "cell_type": "code",
   "execution_count": null,
   "id": "02be6ade-312b-401e-9a93-b97ed0849b4c",
   "metadata": {},
   "outputs": [],
   "source": [
    "df"
   ]
  },
  {
   "cell_type": "markdown",
   "id": "e92ae0e9-226e-4725-9741-16e0ddf9578c",
   "metadata": {},
   "source": [
    "no plt show, no print .... just shows"
   ]
  },
  {
   "cell_type": "markdown",
   "id": "69f80202-6fe6-4e56-878a-ee766c76be69",
   "metadata": {},
   "source": [
    "## Magic commands\n",
    "\n",
    "```\n",
    "%matplotlib inline <- default setting\n",
    "\n",
    "# other options (may need kernel restart). opens tk or qt5 window for display graph/plot\n",
    "\n",
    "%matplotlib tk \n",
    "\n",
    "%matplotlib qt5 \n",
    "\n",
    "```"
   ]
  },
  {
   "cell_type": "markdown",
   "id": "86ff76ef-ea69-47a3-97aa-9f979ee37638",
   "metadata": {},
   "source": [
    "# heading\n",
    "## heading\n",
    "### heading\n",
    "\n",
    "text **bold text** *italic text*.\n",
    "\n",
    "list:\n",
    "- asdf\n",
    "- asfasdf\n",
    "- asd\n",
    "\n",
    "ordered list\n",
    "1. adsfadf\n",
    "2. asdfhlaksdj\n",
    "3. kajhsdlfkjha\n",
    "\n"
   ]
  },
  {
   "cell_type": "markdown",
   "id": "546ee938-7231-4e9f-b844-7eb1768207e1",
   "metadata": {},
   "source": [
    "latex\n",
    "\n",
    "$$\\Phi^n + \\Phi^n-1$$"
   ]
  },
  {
   "cell_type": "markdown",
   "id": "3d00d42d-c690-424d-acca-957105e37029",
   "metadata": {},
   "source": [
    "%%latex\n",
    "\n",
    "\\begin{align}\n",
    "\\Phi^n + \\Phi^{n-1}\n",
    "\\end{align}\n"
   ]
  },
  {
   "cell_type": "code",
   "execution_count": null,
   "id": "57aa1f00-11cb-474c-a546-027d93811cf0",
   "metadata": {},
   "outputs": [],
   "source": [
    "%timeit print(\"hello\")"
   ]
  },
  {
   "cell_type": "code",
   "execution_count": null,
   "id": "b1a3b0ef-53e6-491a-beb6-ba83741ed9ff",
   "metadata": {},
   "outputs": [],
   "source": [
    "%%timeit\n",
    "print(\"one\")\n",
    "print(\"two\")"
   ]
  },
  {
   "cell_type": "code",
   "execution_count": 8,
   "id": "f5414929-3c77-4e4c-b536-378091adadfe",
   "metadata": {},
   "outputs": [
    {
     "name": "stdout",
     "output_type": "stream",
     "text": [
      "Writing cell.py\n"
     ]
    }
   ],
   "source": [
    "%%writefile cell.py\n",
    "\n",
    "def myFunc():\n",
    "    print(\"myFunc()\")\n",
    "\n",
    "myFunc()"
   ]
  },
  {
   "cell_type": "code",
   "execution_count": 6,
   "id": "dfadebb5-43d3-4d29-b2e4-88c68655ab53",
   "metadata": {},
   "outputs": [
    {
     "data": {
      "text/plain": [
       "'C:\\\\Users\\\\kingo\\\\Code\\\\python_projects\\\\JupyterNotebookGuide'"
      ]
     },
     "execution_count": 6,
     "metadata": {},
     "output_type": "execute_result"
    }
   ],
   "source": [
    "%pwd"
   ]
  },
  {
   "cell_type": "markdown",
   "id": "45e7e6a5-b089-4030-842b-bc07d6a5572a",
   "metadata": {},
   "source": [
    "store to local memory shared between open notebooks"
   ]
  },
  {
   "cell_type": "code",
   "execution_count": 15,
   "id": "0d261a90-2271-4636-9b48-d5ef66be462d",
   "metadata": {},
   "outputs": [
    {
     "name": "stdout",
     "output_type": "stream",
     "text": [
      "Stored 'mylist' (list)\n"
     ]
    }
   ],
   "source": [
    "mylist=[5,10,15,20]\n",
    "%store mylist"
   ]
  },
  {
   "cell_type": "code",
   "execution_count": 16,
   "id": "c8ead8d2-6653-4705-b692-bd1f74996320",
   "metadata": {},
   "outputs": [
    {
     "name": "stdout",
     "output_type": "stream",
     "text": [
      "%timeit print(\"hello\")\n",
      "%%timeit\n",
      "print(\"one\")\n",
      "print(\"two\")\n",
      "a=1\n",
      "%timeit print(\"hello\")\n",
      "%%writefile\n",
      "%pwd\n",
      "%%writefile cell.py\n",
      "%%writefile cell.py\n",
      "\n",
      "def myFunc():\n",
      "    print(\"myFunc()\")\n",
      "\n",
      "myFunc()\n",
      "%timeit print(\"hello\")\n",
      "%%timeit\n",
      "print(\"one\")\n",
      "print(\"two\")\n",
      "%%writefile cell.py\n",
      "\n",
      "def myFunc():\n",
      "    print(\"myFunc()\")\n",
      "\n",
      "myFunc()\n",
      "%pwd\n",
      "%history\n",
      "mylist=[5,10,15,20]\n",
      "\n",
      "%store mylist\n",
      "mylist=[5,10,15,20]\n",
      "%store mylist\n",
      "%history\n"
     ]
    }
   ],
   "source": [
    "%history"
   ]
  },
  {
   "cell_type": "markdown",
   "id": "4a5512f1-e0df-41a3-a766-bbb09fe18ef5",
   "metadata": {},
   "source": [
    "Run in another notebook after storing\n",
    "```\n",
    "%store -r\n",
    "\n",
    "print(mylist)\n",
    "```"
   ]
  },
  {
   "cell_type": "markdown",
   "id": "a46b824e-e757-4687-968f-0c2933d46964",
   "metadata": {},
   "source": [
    "Installing modules\n",
    "```\n",
    "!pip install whatever\n",
    "```\n",
    "Removing modules\n",
    "```\n",
    "!pip uninstall whatever\n",
    "```\n",
    "\n"
   ]
  },
  {
   "cell_type": "markdown",
   "id": "9868dc45-50c6-4c0d-9c13-26f38e6d57db",
   "metadata": {},
   "source": [
    "Possible to have vim bindings in jupyter notebook (check neuralnine YT"
   ]
  },
  {
   "cell_type": "code",
   "execution_count": null,
   "id": "d8f0e72d-eb97-48da-bbd0-9dd128b1ef5c",
   "metadata": {},
   "outputs": [],
   "source": []
  }
 ],
 "metadata": {
  "kernelspec": {
   "display_name": "Python 3 (ipykernel)",
   "language": "python",
   "name": "python3"
  },
  "language_info": {
   "codemirror_mode": {
    "name": "ipython",
    "version": 3
   },
   "file_extension": ".py",
   "mimetype": "text/x-python",
   "name": "python",
   "nbconvert_exporter": "python",
   "pygments_lexer": "ipython3",
   "version": "3.11.9"
  }
 },
 "nbformat": 4,
 "nbformat_minor": 5
}
